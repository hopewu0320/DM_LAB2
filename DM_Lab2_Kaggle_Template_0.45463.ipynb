{
 "cells": [
  {
   "cell_type": "code",
   "execution_count": 1,
   "id": "593b75a3",
   "metadata": {},
   "outputs": [],
   "source": [
    "import pandas as pd\n",
    "import numpy as np\n",
    "import json"
   ]
  },
  {
   "cell_type": "code",
   "execution_count": 2,
   "id": "6135fec2",
   "metadata": {},
   "outputs": [],
   "source": [
    "#Preprocessing\n",
    "https://www.kaggle.com/code/kritanjalijain/twitter-sentiment-analysis-lstm/notebook"
   ]
  },
  {
   "cell_type": "code",
   "execution_count": 3,
   "id": "9ac73534",
   "metadata": {},
   "outputs": [],
   "source": [
    "test_train_set=pd.read_csv('data/data_identification.csv')\n",
    "emotion=pd.read_csv('data/emotion.csv')\n"
   ]
  },
  {
   "cell_type": "code",
   "execution_count": 4,
   "id": "42555f4b",
   "metadata": {},
   "outputs": [],
   "source": [
    "test_str1=\"@Hope I love U\"\n",
    "test_str2=\"Dad good night\"\n",
    "test_str3=\"@Donald gooooooooooood joob\""
   ]
  },
  {
   "cell_type": "code",
   "execution_count": 5,
   "id": "63024b09",
   "metadata": {},
   "outputs": [],
   "source": [
    "def text_cleaning(text):\n",
    "    tmp=[]\n",
    "    for t in text.split(' '):\n",
    "        if t.startswith('@') or t.startswith('<LH>'):\n",
    "            continue\n",
    "        else:\n",
    "            tmp.append(t)\n",
    "    clean_text= \" \".join(tmp)\n",
    "    return clean_text"
   ]
  },
  {
   "cell_type": "code",
   "execution_count": 6,
   "id": "254d24e9",
   "metadata": {},
   "outputs": [
    {
     "data": {
      "text/plain": [
       "'I love U'"
      ]
     },
     "execution_count": 6,
     "metadata": {},
     "output_type": "execute_result"
    }
   ],
   "source": [
    "text_cleaning(test_str1)"
   ]
  },
  {
   "cell_type": "code",
   "execution_count": 7,
   "id": "a48d89c5",
   "metadata": {},
   "outputs": [],
   "source": [
    "# https://officeguide.cc/python-read-write-json-encode-decode-tutorial-examples/\n",
    "#load json會把輸入字串轉為字典\n",
    "i=0\n",
    "tweet_id=[]\n",
    "text=[]\n",
    "with open('data/tweets_DM.json', \"r\") as f:\n",
    "    for line in f:\n",
    "        #print(line)\n",
    "        data=json.loads(line)\n",
    "        tweet_id.append(data['_source']['tweet']['tweet_id'])\n",
    "        clean_text=text_cleaning(data['_source']['tweet']['text'])\n",
    "        text.append(clean_text)\n",
    "        #print(clean_text)\n",
    "        '''i=i+1\n",
    "        if i==10:\n",
    "            break'''"
   ]
  },
  {
   "cell_type": "code",
   "execution_count": 8,
   "id": "1619e1ee",
   "metadata": {},
   "outputs": [],
   "source": [
    "dict = {'tweet_id': tweet_id, 'text': text} \n",
    "tweet_text = pd.DataFrame(dict)"
   ]
  },
  {
   "cell_type": "code",
   "execution_count": 9,
   "id": "7ab116f3",
   "metadata": {},
   "outputs": [
    {
     "data": {
      "text/plain": [
       "0     People who post \"add me on #Snapchat\" must be ...\n",
       "1     As we see, Trump is dangerous to #freepress ar...\n",
       "2     Confident of your obedience, I write to you, k...\n",
       "3                        Now ISSA is stalking Tasha 😂😂😂\n",
       "4     \"Trust is not the same as faith. A friend is s...\n",
       "5     Thx for the BEST TIME tonight. What stories! H...\n",
       "6               Still waiting on those supplies Liscus.\n",
       "7                              Love knows no gender. 😢😭\n",
       "8     More highlights are being shown than actual sp...\n",
       "9     When do you have enough ? When are you satisfi...\n",
       "10    The #SSM debate; (a manufactured fantasy used ...\n",
       "11    I love suffering 🙃🙃 I love when valium does no...\n",
       "12    Can someone tell my why my feeds scroll back t...\n",
       "13    You know you research butterflies when predict...\n",
       "14    My brother didn't tell me he was going to horr...\n",
       "15    On a scale of Kylie Jenner-Heidi Klum, I consi...\n",
       "16    Progress at House Meyer, Pre Galv sub frame go...\n",
       "17          Vomi post birthday celebrations! #late_post\n",
       "18    One of my dreams come true a couple of days ag...\n",
       "19       Thankful for another day of life 🙏🏾. #Blessed✨\n",
       "Name: text, dtype: object"
      ]
     },
     "execution_count": 9,
     "metadata": {},
     "output_type": "execute_result"
    }
   ],
   "source": [
    "tweet_text['text'][:20]"
   ]
  },
  {
   "cell_type": "code",
   "execution_count": 10,
   "id": "349c9105",
   "metadata": {},
   "outputs": [],
   "source": [
    "test_set=test_train_set[test_train_set['identification']=='test']\n",
    "train_set=test_train_set[test_train_set['identification']=='train']"
   ]
  },
  {
   "cell_type": "code",
   "execution_count": 11,
   "id": "5d2b5ff3",
   "metadata": {},
   "outputs": [],
   "source": [
    "\n",
    "#train+emotion\n",
    "train_emo=pd.merge(train_set,emotion,on='tweet_id')\n",
    "train=pd.merge(tweet_text,train_emo,on='tweet_id')\n",
    "test=pd.merge(test_set,tweet_text,on='tweet_id')\n"
   ]
  },
  {
   "cell_type": "code",
   "execution_count": 12,
   "id": "f3f75e4b",
   "metadata": {},
   "outputs": [
    {
     "name": "stderr",
     "output_type": "stream",
     "text": [
      "2022-11-21 00:41:12.918908: I tensorflow/core/platform/cpu_feature_guard.cc:193] This TensorFlow binary is optimized with oneAPI Deep Neural Network Library (oneDNN) to use the following CPU instructions in performance-critical operations:  AVX2 AVX_VNNI FMA\n",
      "To enable them in other operations, rebuild TensorFlow with the appropriate compiler flags.\n",
      "2022-11-21 00:41:13.232348: I tensorflow/core/util/util.cc:169] oneDNN custom operations are on. You may see slightly different numerical results due to floating-point round-off errors from different computation orders. To turn them off, set the environment variable `TF_ENABLE_ONEDNN_OPTS=0`.\n",
      "2022-11-21 00:41:13.268666: W tensorflow/stream_executor/platform/default/dso_loader.cc:64] Could not load dynamic library 'libcudart.so.11.0'; dlerror: libcudart.so.11.0: cannot open shared object file: No such file or directory\n",
      "2022-11-21 00:41:13.268706: I tensorflow/stream_executor/cuda/cudart_stub.cc:29] Ignore above cudart dlerror if you do not have a GPU set up on your machine.\n",
      "2022-11-21 00:41:13.303011: E tensorflow/stream_executor/cuda/cuda_blas.cc:2981] Unable to register cuBLAS factory: Attempting to register factory for plugin cuBLAS when one has already been registered\n",
      "2022-11-21 00:41:14.188414: W tensorflow/stream_executor/platform/default/dso_loader.cc:64] Could not load dynamic library 'libnvinfer.so.7'; dlerror: libnvinfer.so.7: cannot open shared object file: No such file or directory\n",
      "2022-11-21 00:41:14.188534: W tensorflow/stream_executor/platform/default/dso_loader.cc:64] Could not load dynamic library 'libnvinfer_plugin.so.7'; dlerror: libnvinfer_plugin.so.7: cannot open shared object file: No such file or directory\n",
      "2022-11-21 00:41:14.188542: W tensorflow/compiler/tf2tensorrt/utils/py_utils.cc:38] TF-TRT Warning: Cannot dlopen some TensorRT libraries. If you would like to use Nvidia GPU with TensorRT, please make sure the missing libraries mentioned above are installed properly.\n"
     ]
    },
    {
     "name": "stdout",
     "output_type": "stream",
     "text": [
      "716744\n"
     ]
    }
   ],
   "source": [
    "from tensorflow.keras.preprocessing.text import Tokenizer\n",
    "tok = Tokenizer()\n",
    "tok.fit_on_texts(pd.concat([train,test],ignore_index=True)['text'])\n",
    "vocab_size = len(tok.word_index) + 1\n",
    "print(vocab_size)"
   ]
  },
  {
   "cell_type": "code",
   "execution_count": 13,
   "id": "3d5df3c0",
   "metadata": {},
   "outputs": [],
   "source": [
    "\n",
    "train_encoded_phrase = tok.texts_to_sequences(train['text']) \n",
    "test_encoded_phrase = tok.texts_to_sequences(test['text'])"
   ]
  },
  {
   "cell_type": "code",
   "execution_count": 14,
   "id": "0855447a",
   "metadata": {},
   "outputs": [],
   "source": [
    "from tensorflow.keras.preprocessing.sequence import pad_sequences\n",
    "X_train = pad_sequences(train_encoded_phrase, maxlen=59,padding='post',truncating='post')\n",
    "X_test = pad_sequences(test_encoded_phrase, maxlen=59,padding='post',truncating='post')\n",
    "#print(X_train[:5])"
   ]
  },
  {
   "cell_type": "code",
   "execution_count": 15,
   "id": "e256f56e",
   "metadata": {},
   "outputs": [
    {
     "data": {
      "text/plain": [
       "(1455563, 59)"
      ]
     },
     "execution_count": 15,
     "metadata": {},
     "output_type": "execute_result"
    }
   ],
   "source": [
    "X_train.shape"
   ]
  },
  {
   "cell_type": "code",
   "execution_count": 16,
   "id": "1e7f5fe7",
   "metadata": {},
   "outputs": [],
   "source": [
    "from sklearn.preprocessing import OneHotEncoder\n",
    "'''\n",
    "Labels turn into one-hot encoding\n",
    "'''\n",
    "\n",
    "encoder = OneHotEncoder(handle_unknown='ignore')\n",
    "\n"
   ]
  },
  {
   "cell_type": "code",
   "execution_count": 17,
   "id": "e6a70d79",
   "metadata": {},
   "outputs": [
    {
     "data": {
      "text/html": [
       "<style>#sk-container-id-1 {color: black;background-color: white;}#sk-container-id-1 pre{padding: 0;}#sk-container-id-1 div.sk-toggleable {background-color: white;}#sk-container-id-1 label.sk-toggleable__label {cursor: pointer;display: block;width: 100%;margin-bottom: 0;padding: 0.3em;box-sizing: border-box;text-align: center;}#sk-container-id-1 label.sk-toggleable__label-arrow:before {content: \"▸\";float: left;margin-right: 0.25em;color: #696969;}#sk-container-id-1 label.sk-toggleable__label-arrow:hover:before {color: black;}#sk-container-id-1 div.sk-estimator:hover label.sk-toggleable__label-arrow:before {color: black;}#sk-container-id-1 div.sk-toggleable__content {max-height: 0;max-width: 0;overflow: hidden;text-align: left;background-color: #f0f8ff;}#sk-container-id-1 div.sk-toggleable__content pre {margin: 0.2em;color: black;border-radius: 0.25em;background-color: #f0f8ff;}#sk-container-id-1 input.sk-toggleable__control:checked~div.sk-toggleable__content {max-height: 200px;max-width: 100%;overflow: auto;}#sk-container-id-1 input.sk-toggleable__control:checked~label.sk-toggleable__label-arrow:before {content: \"▾\";}#sk-container-id-1 div.sk-estimator input.sk-toggleable__control:checked~label.sk-toggleable__label {background-color: #d4ebff;}#sk-container-id-1 div.sk-label input.sk-toggleable__control:checked~label.sk-toggleable__label {background-color: #d4ebff;}#sk-container-id-1 input.sk-hidden--visually {border: 0;clip: rect(1px 1px 1px 1px);clip: rect(1px, 1px, 1px, 1px);height: 1px;margin: -1px;overflow: hidden;padding: 0;position: absolute;width: 1px;}#sk-container-id-1 div.sk-estimator {font-family: monospace;background-color: #f0f8ff;border: 1px dotted black;border-radius: 0.25em;box-sizing: border-box;margin-bottom: 0.5em;}#sk-container-id-1 div.sk-estimator:hover {background-color: #d4ebff;}#sk-container-id-1 div.sk-parallel-item::after {content: \"\";width: 100%;border-bottom: 1px solid gray;flex-grow: 1;}#sk-container-id-1 div.sk-label:hover label.sk-toggleable__label {background-color: #d4ebff;}#sk-container-id-1 div.sk-serial::before {content: \"\";position: absolute;border-left: 1px solid gray;box-sizing: border-box;top: 0;bottom: 0;left: 50%;z-index: 0;}#sk-container-id-1 div.sk-serial {display: flex;flex-direction: column;align-items: center;background-color: white;padding-right: 0.2em;padding-left: 0.2em;position: relative;}#sk-container-id-1 div.sk-item {position: relative;z-index: 1;}#sk-container-id-1 div.sk-parallel {display: flex;align-items: stretch;justify-content: center;background-color: white;position: relative;}#sk-container-id-1 div.sk-item::before, #sk-container-id-1 div.sk-parallel-item::before {content: \"\";position: absolute;border-left: 1px solid gray;box-sizing: border-box;top: 0;bottom: 0;left: 50%;z-index: -1;}#sk-container-id-1 div.sk-parallel-item {display: flex;flex-direction: column;z-index: 1;position: relative;background-color: white;}#sk-container-id-1 div.sk-parallel-item:first-child::after {align-self: flex-end;width: 50%;}#sk-container-id-1 div.sk-parallel-item:last-child::after {align-self: flex-start;width: 50%;}#sk-container-id-1 div.sk-parallel-item:only-child::after {width: 0;}#sk-container-id-1 div.sk-dashed-wrapped {border: 1px dashed gray;margin: 0 0.4em 0.5em 0.4em;box-sizing: border-box;padding-bottom: 0.4em;background-color: white;}#sk-container-id-1 div.sk-label label {font-family: monospace;font-weight: bold;display: inline-block;line-height: 1.2em;}#sk-container-id-1 div.sk-label-container {text-align: center;}#sk-container-id-1 div.sk-container {/* jupyter's `normalize.less` sets `[hidden] { display: none; }` but bootstrap.min.css set `[hidden] { display: none !important; }` so we also need the `!important` here to be able to override the default hidden behavior on the sphinx rendered scikit-learn.org. See: https://github.com/scikit-learn/scikit-learn/issues/21755 */display: inline-block !important;position: relative;}#sk-container-id-1 div.sk-text-repr-fallback {display: none;}</style><div id=\"sk-container-id-1\" class=\"sk-top-container\"><div class=\"sk-text-repr-fallback\"><pre>OneHotEncoder(handle_unknown=&#x27;ignore&#x27;)</pre><b>In a Jupyter environment, please rerun this cell to show the HTML representation or trust the notebook. <br />On GitHub, the HTML representation is unable to render, please try loading this page with nbviewer.org.</b></div><div class=\"sk-container\" hidden><div class=\"sk-item\"><div class=\"sk-estimator sk-toggleable\"><input class=\"sk-toggleable__control sk-hidden--visually\" id=\"sk-estimator-id-1\" type=\"checkbox\" checked><label for=\"sk-estimator-id-1\" class=\"sk-toggleable__label sk-toggleable__label-arrow\">OneHotEncoder</label><div class=\"sk-toggleable__content\"><pre>OneHotEncoder(handle_unknown=&#x27;ignore&#x27;)</pre></div></div></div></div></div>"
      ],
      "text/plain": [
       "OneHotEncoder(handle_unknown='ignore')"
      ]
     },
     "execution_count": 17,
     "metadata": {},
     "output_type": "execute_result"
    }
   ],
   "source": [
    "reshaped_emotion=np.reshape(list(train['emotion']),(-1,1))\n",
    "encoder.fit(reshaped_emotion)"
   ]
  },
  {
   "cell_type": "code",
   "execution_count": 18,
   "id": "5eb95905",
   "metadata": {},
   "outputs": [],
   "source": [
    "y_train=encoder.transform(reshaped_emotion)"
   ]
  },
  {
   "cell_type": "code",
   "execution_count": 19,
   "id": "a03d3249",
   "metadata": {},
   "outputs": [
    {
     "data": {
      "text/plain": [
       "array([[0., 1., 0., ..., 0., 0., 0.],\n",
       "       [0., 0., 0., ..., 1., 0., 0.],\n",
       "       [0., 0., 0., ..., 0., 0., 0.],\n",
       "       ...,\n",
       "       [0., 0., 0., ..., 0., 0., 0.],\n",
       "       [0., 0., 0., ..., 0., 0., 0.],\n",
       "       [0., 0., 0., ..., 0., 0., 0.]])"
      ]
     },
     "execution_count": 19,
     "metadata": {},
     "output_type": "execute_result"
    }
   ],
   "source": [
    "y_train.toarray()"
   ]
  },
  {
   "cell_type": "code",
   "execution_count": 48,
   "id": "6f7e4f56",
   "metadata": {},
   "outputs": [
    {
     "name": "stdout",
     "output_type": "stream",
     "text": [
      "Model: \"sequential_5\"\n",
      "_________________________________________________________________\n",
      " Layer (type)                Output Shape              Param #   \n",
      "=================================================================\n",
      " embedding_5 (Embedding)     (None, 59, 50)            35837200  \n",
      "                                                                 \n",
      " dropout_10 (Dropout)        (None, 59, 50)            0         \n",
      "                                                                 \n",
      " conv1d_5 (Conv1D)           (None, 59, 32)            4832      \n",
      "                                                                 \n",
      " max_pooling1d_5 (MaxPooling  (None, 29, 32)           0         \n",
      " 1D)                                                             \n",
      "                                                                 \n",
      " lstm_5 (LSTM)               (None, 32)                8320      \n",
      "                                                                 \n",
      " dropout_11 (Dropout)        (None, 32)                0         \n",
      "                                                                 \n",
      " dense_5 (Dense)             (None, 8)                 264       \n",
      "                                                                 \n",
      "=================================================================\n",
      "Total params: 35,850,616\n",
      "Trainable params: 35,850,616\n",
      "Non-trainable params: 0\n",
      "_________________________________________________________________\n",
      "None\n"
     ]
    }
   ],
   "source": [
    "from keras.models import Sequential\n",
    "from keras.layers import Dense, LSTM, Conv1D, MaxPooling1D, Bidirectional\n",
    "from keras.layers import Flatten, Dropout\n",
    "from keras.layers import Embedding,SpatialDropout1D\n",
    "# create the model\n",
    "embedding_vecor_length = 50\n",
    "\n",
    "# Initialising the model\n",
    "model_1 = Sequential()\n",
    "\n",
    "\n",
    "model_1.add(Embedding(vocab_size, embedding_vecor_length, input_length=59))\n",
    "model_1.add(Dropout(0.2))\n",
    "\n",
    "model_1.add(Conv1D(filters=32, kernel_size=3, padding='same', activation='relu'))\n",
    "model_1.add(MaxPooling1D(pool_size=2))\n",
    "model_1.add((LSTM(32)))\n",
    "model_1.add(Dropout(0.4))\n",
    "\n",
    "# Adding output layer\n",
    "model_1.add(Dense(8, activation='softmax'))\n",
    "\n",
    "# Printing the model summary\n",
    "print(model_1.summary())\n",
    "\n",
    "# Compiling the model\n",
    "model_1.compile(loss='categorical_crossentropy', optimizer='adam', metrics=['accuracy'])\n",
    "\n"
   ]
  },
  {
   "cell_type": "code",
   "execution_count": 49,
   "id": "2357685a",
   "metadata": {},
   "outputs": [
    {
     "name": "stdout",
     "output_type": "stream",
     "text": [
      "11372/11372 [==============================] - 1463s 128ms/step - loss: 1.3685 - accuracy: 0.5103\n"
     ]
    }
   ],
   "source": [
    "num_epochs = 1\n",
    "# Fitting the data to the model\n",
    "history_1 = model_1.fit(X_train, y_train.toarray(),epochs=num_epochs , batch_size=128 ,verbose=1)"
   ]
  },
  {
   "cell_type": "code",
   "execution_count": 50,
   "id": "94b27991",
   "metadata": {},
   "outputs": [
    {
     "data": {
      "text/html": [
       "<style>#sk-container-id-4 {color: black;background-color: white;}#sk-container-id-4 pre{padding: 0;}#sk-container-id-4 div.sk-toggleable {background-color: white;}#sk-container-id-4 label.sk-toggleable__label {cursor: pointer;display: block;width: 100%;margin-bottom: 0;padding: 0.3em;box-sizing: border-box;text-align: center;}#sk-container-id-4 label.sk-toggleable__label-arrow:before {content: \"▸\";float: left;margin-right: 0.25em;color: #696969;}#sk-container-id-4 label.sk-toggleable__label-arrow:hover:before {color: black;}#sk-container-id-4 div.sk-estimator:hover label.sk-toggleable__label-arrow:before {color: black;}#sk-container-id-4 div.sk-toggleable__content {max-height: 0;max-width: 0;overflow: hidden;text-align: left;background-color: #f0f8ff;}#sk-container-id-4 div.sk-toggleable__content pre {margin: 0.2em;color: black;border-radius: 0.25em;background-color: #f0f8ff;}#sk-container-id-4 input.sk-toggleable__control:checked~div.sk-toggleable__content {max-height: 200px;max-width: 100%;overflow: auto;}#sk-container-id-4 input.sk-toggleable__control:checked~label.sk-toggleable__label-arrow:before {content: \"▾\";}#sk-container-id-4 div.sk-estimator input.sk-toggleable__control:checked~label.sk-toggleable__label {background-color: #d4ebff;}#sk-container-id-4 div.sk-label input.sk-toggleable__control:checked~label.sk-toggleable__label {background-color: #d4ebff;}#sk-container-id-4 input.sk-hidden--visually {border: 0;clip: rect(1px 1px 1px 1px);clip: rect(1px, 1px, 1px, 1px);height: 1px;margin: -1px;overflow: hidden;padding: 0;position: absolute;width: 1px;}#sk-container-id-4 div.sk-estimator {font-family: monospace;background-color: #f0f8ff;border: 1px dotted black;border-radius: 0.25em;box-sizing: border-box;margin-bottom: 0.5em;}#sk-container-id-4 div.sk-estimator:hover {background-color: #d4ebff;}#sk-container-id-4 div.sk-parallel-item::after {content: \"\";width: 100%;border-bottom: 1px solid gray;flex-grow: 1;}#sk-container-id-4 div.sk-label:hover label.sk-toggleable__label {background-color: #d4ebff;}#sk-container-id-4 div.sk-serial::before {content: \"\";position: absolute;border-left: 1px solid gray;box-sizing: border-box;top: 0;bottom: 0;left: 50%;z-index: 0;}#sk-container-id-4 div.sk-serial {display: flex;flex-direction: column;align-items: center;background-color: white;padding-right: 0.2em;padding-left: 0.2em;position: relative;}#sk-container-id-4 div.sk-item {position: relative;z-index: 1;}#sk-container-id-4 div.sk-parallel {display: flex;align-items: stretch;justify-content: center;background-color: white;position: relative;}#sk-container-id-4 div.sk-item::before, #sk-container-id-4 div.sk-parallel-item::before {content: \"\";position: absolute;border-left: 1px solid gray;box-sizing: border-box;top: 0;bottom: 0;left: 50%;z-index: -1;}#sk-container-id-4 div.sk-parallel-item {display: flex;flex-direction: column;z-index: 1;position: relative;background-color: white;}#sk-container-id-4 div.sk-parallel-item:first-child::after {align-self: flex-end;width: 50%;}#sk-container-id-4 div.sk-parallel-item:last-child::after {align-self: flex-start;width: 50%;}#sk-container-id-4 div.sk-parallel-item:only-child::after {width: 0;}#sk-container-id-4 div.sk-dashed-wrapped {border: 1px dashed gray;margin: 0 0.4em 0.5em 0.4em;box-sizing: border-box;padding-bottom: 0.4em;background-color: white;}#sk-container-id-4 div.sk-label label {font-family: monospace;font-weight: bold;display: inline-block;line-height: 1.2em;}#sk-container-id-4 div.sk-label-container {text-align: center;}#sk-container-id-4 div.sk-container {/* jupyter's `normalize.less` sets `[hidden] { display: none; }` but bootstrap.min.css set `[hidden] { display: none !important; }` so we also need the `!important` here to be able to override the default hidden behavior on the sphinx rendered scikit-learn.org. See: https://github.com/scikit-learn/scikit-learn/issues/21755 */display: inline-block !important;position: relative;}#sk-container-id-4 div.sk-text-repr-fallback {display: none;}</style><div id=\"sk-container-id-4\" class=\"sk-top-container\"><div class=\"sk-text-repr-fallback\"><pre>LabelEncoder()</pre><b>In a Jupyter environment, please rerun this cell to show the HTML representation or trust the notebook. <br />On GitHub, the HTML representation is unable to render, please try loading this page with nbviewer.org.</b></div><div class=\"sk-container\" hidden><div class=\"sk-item\"><div class=\"sk-estimator sk-toggleable\"><input class=\"sk-toggleable__control sk-hidden--visually\" id=\"sk-estimator-id-4\" type=\"checkbox\" checked><label for=\"sk-estimator-id-4\" class=\"sk-toggleable__label sk-toggleable__label-arrow\">LabelEncoder</label><div class=\"sk-toggleable__content\"><pre>LabelEncoder()</pre></div></div></div></div></div>"
      ],
      "text/plain": [
       "LabelEncoder()"
      ]
     },
     "execution_count": 50,
     "metadata": {},
     "output_type": "execute_result"
    }
   ],
   "source": [
    "from sklearn.preprocessing import LabelEncoder\n",
    "\n",
    "label_encoder = LabelEncoder()\n",
    "label_encoder.fit(train['emotion'])"
   ]
  },
  {
   "cell_type": "code",
   "execution_count": 51,
   "id": "ad273bf2",
   "metadata": {},
   "outputs": [],
   "source": [
    "def label_decode(le, one_hot_label):\n",
    "    dec = np.argmax(one_hot_label, axis=1)\n",
    "    return le.inverse_transform(dec)"
   ]
  },
  {
   "cell_type": "code",
   "execution_count": 52,
   "id": "556c845d",
   "metadata": {},
   "outputs": [
    {
     "name": "stdout",
     "output_type": "stream",
     "text": [
      "3219/3219 [==============================] - 17s 5ms/step\n"
     ]
    },
    {
     "data": {
      "text/plain": [
       "array([[0.01585974, 0.0819651 , 0.04996465, 0.02478131, 0.4345113 ,\n",
       "        0.08357871, 0.02996697, 0.27937216],\n",
       "       [0.05203462, 0.08985004, 0.22372973, 0.0318957 , 0.19283545,\n",
       "        0.29875436, 0.03912314, 0.07177692],\n",
       "       [0.02201701, 0.15466182, 0.06586471, 0.02379698, 0.43625316,\n",
       "        0.0944984 , 0.02650981, 0.17639808],\n",
       "       [0.03795854, 0.08552589, 0.15318269, 0.02463756, 0.36469474,\n",
       "        0.18568859, 0.03206505, 0.11624696],\n",
       "       [0.06315969, 0.04113721, 0.4264006 , 0.01959665, 0.10975022,\n",
       "        0.25091007, 0.03398763, 0.05505786]], dtype=float32)"
      ]
     },
     "execution_count": 52,
     "metadata": {},
     "output_type": "execute_result"
    }
   ],
   "source": [
    "pred_result = model_1.predict(X_test, batch_size=128)\n",
    "pred_result[:5]"
   ]
  },
  {
   "cell_type": "code",
   "execution_count": 53,
   "id": "7095078a",
   "metadata": {},
   "outputs": [
    {
     "data": {
      "text/plain": [
       "array(['joy', 'sadness', 'joy', 'joy', 'disgust', 'joy', 'trust', 'joy',\n",
       "       'anticipation', 'sadness'], dtype=object)"
      ]
     },
     "execution_count": 53,
     "metadata": {},
     "output_type": "execute_result"
    }
   ],
   "source": [
    "pred_result = label_decode(label_encoder, pred_result)\n",
    "pred_result[:10]"
   ]
  },
  {
   "cell_type": "code",
   "execution_count": 54,
   "id": "5d3d0322",
   "metadata": {},
   "outputs": [],
   "source": [
    "test['emotion']=pred_result"
   ]
  },
  {
   "cell_type": "code",
   "execution_count": 55,
   "id": "813d7c88",
   "metadata": {},
   "outputs": [
    {
     "data": {
      "text/html": [
       "<div>\n",
       "<style scoped>\n",
       "    .dataframe tbody tr th:only-of-type {\n",
       "        vertical-align: middle;\n",
       "    }\n",
       "\n",
       "    .dataframe tbody tr th {\n",
       "        vertical-align: top;\n",
       "    }\n",
       "\n",
       "    .dataframe thead th {\n",
       "        text-align: right;\n",
       "    }\n",
       "</style>\n",
       "<table border=\"1\" class=\"dataframe\">\n",
       "  <thead>\n",
       "    <tr style=\"text-align: right;\">\n",
       "      <th></th>\n",
       "      <th>id</th>\n",
       "      <th>emotion</th>\n",
       "    </tr>\n",
       "  </thead>\n",
       "  <tbody>\n",
       "    <tr>\n",
       "      <th>0</th>\n",
       "      <td>0x28cc61</td>\n",
       "      <td>joy</td>\n",
       "    </tr>\n",
       "    <tr>\n",
       "      <th>1</th>\n",
       "      <td>0x2db41f</td>\n",
       "      <td>sadness</td>\n",
       "    </tr>\n",
       "    <tr>\n",
       "      <th>2</th>\n",
       "      <td>0x2466f6</td>\n",
       "      <td>joy</td>\n",
       "    </tr>\n",
       "    <tr>\n",
       "      <th>3</th>\n",
       "      <td>0x23f9e9</td>\n",
       "      <td>joy</td>\n",
       "    </tr>\n",
       "    <tr>\n",
       "      <th>4</th>\n",
       "      <td>0x1fb4e1</td>\n",
       "      <td>disgust</td>\n",
       "    </tr>\n",
       "    <tr>\n",
       "      <th>...</th>\n",
       "      <td>...</td>\n",
       "      <td>...</td>\n",
       "    </tr>\n",
       "    <tr>\n",
       "      <th>411967</th>\n",
       "      <td>0x2c4dc2</td>\n",
       "      <td>joy</td>\n",
       "    </tr>\n",
       "    <tr>\n",
       "      <th>411968</th>\n",
       "      <td>0x31be7c</td>\n",
       "      <td>anticipation</td>\n",
       "    </tr>\n",
       "    <tr>\n",
       "      <th>411969</th>\n",
       "      <td>0x1ca58e</td>\n",
       "      <td>anticipation</td>\n",
       "    </tr>\n",
       "    <tr>\n",
       "      <th>411970</th>\n",
       "      <td>0x35c8ba</td>\n",
       "      <td>joy</td>\n",
       "    </tr>\n",
       "    <tr>\n",
       "      <th>411971</th>\n",
       "      <td>0x1d941b</td>\n",
       "      <td>joy</td>\n",
       "    </tr>\n",
       "  </tbody>\n",
       "</table>\n",
       "<p>411972 rows × 2 columns</p>\n",
       "</div>"
      ],
      "text/plain": [
       "              id       emotion\n",
       "0       0x28cc61           joy\n",
       "1       0x2db41f       sadness\n",
       "2       0x2466f6           joy\n",
       "3       0x23f9e9           joy\n",
       "4       0x1fb4e1       disgust\n",
       "...          ...           ...\n",
       "411967  0x2c4dc2           joy\n",
       "411968  0x31be7c  anticipation\n",
       "411969  0x1ca58e  anticipation\n",
       "411970  0x35c8ba           joy\n",
       "411971  0x1d941b           joy\n",
       "\n",
       "[411972 rows x 2 columns]"
      ]
     },
     "execution_count": 55,
     "metadata": {},
     "output_type": "execute_result"
    }
   ],
   "source": [
    "output=pd.DataFrame([])\n",
    "output['id']=pd.DataFrame(test['tweet_id'])\n",
    "output['emotion']=pred_result\n",
    "output"
   ]
  },
  {
   "cell_type": "code",
   "execution_count": 56,
   "id": "d5398df1",
   "metadata": {},
   "outputs": [],
   "source": [
    "path = 'output_data.csv'\n",
    "#df = pd.DataFrame(columns=headers, data=my2dlist)\n",
    "output.to_csv(path, index=False) # index = True"
   ]
  },
  {
   "cell_type": "code",
   "execution_count": null,
   "id": "fc3cf599",
   "metadata": {},
   "outputs": [],
   "source": []
  }
 ],
 "metadata": {
  "celltoolbar": "Raw Cell Format",
  "kernelspec": {
   "display_name": "Python 3 (ipykernel)",
   "language": "python",
   "name": "python3"
  },
  "language_info": {
   "codemirror_mode": {
    "name": "ipython",
    "version": 3
   },
   "file_extension": ".py",
   "mimetype": "text/x-python",
   "name": "python",
   "nbconvert_exporter": "python",
   "pygments_lexer": "ipython3",
   "version": "3.10.4"
  }
 },
 "nbformat": 4,
 "nbformat_minor": 5
}
